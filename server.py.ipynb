{
 "cells": [
  {
   "cell_type": "code",
   "execution_count": 1,
   "metadata": {},
   "outputs": [
    {
     "name": "stdout",
     "output_type": "stream",
     "text": [
      "pygame 2.0.1 (SDL 2.0.14, Python 3.7.3)\n",
      "Hello from the pygame community. https://www.pygame.org/contribute.html\n"
     ]
    }
   ],
   "source": [
    "import  pygame\n",
    "import os,sys\n",
    "from grid_multi import Grid\n",
    "import socket\n",
    "import threading"
   ]
  },
  {
   "cell_type": "code",
   "execution_count": 2,
   "metadata": {},
   "outputs": [],
   "source": [
    "pygame.init()\n",
    "def create_thread(target):\n",
    "    thread=threading.Thread(target=target)\n",
    "    thread.daemon=True\n",
    "    thread.start()"
   ]
  },
  {
   "cell_type": "code",
   "execution_count": 3,
   "metadata": {},
   "outputs": [],
   "source": [
    "HOST='127.0.0.1'\n",
    "PORT=9009\n",
    "connection_established=False\n",
    "conn,addr=None,None"
   ]
  },
  {
   "cell_type": "code",
   "execution_count": 4,
   "metadata": {},
   "outputs": [],
   "source": [
    "sock=socket.socket(socket.AF_INET,socket.SOCK_STREAM)\n",
    "sock.bind((HOST,PORT))\n",
    "sock.listen(1) "
   ]
  },
  {
   "cell_type": "code",
   "execution_count": 5,
   "metadata": {},
   "outputs": [],
   "source": [
    "grid=Grid()\n",
    "running=True\n",
    "player=\"X\"\n",
    "turn=True\n",
    "playing=\"True\""
   ]
  },
  {
   "cell_type": "code",
   "execution_count": 6,
   "metadata": {},
   "outputs": [],
   "source": [
    "def wait_connect():\n",
    "    global connection_established,conn,addr\n",
    "    conn,addr=sock.accept()\n",
    "    print('[client connected]')\n",
    "    connection_established=True\n",
    "    grid.game_over=False\n",
    "    receive_data()"
   ]
  },
  {
   "cell_type": "code",
   "execution_count": 7,
   "metadata": {},
   "outputs": [
    {
     "name": "stdout",
     "output_type": "stream",
     "text": [
      "[client connected]\n"
     ]
    }
   ],
   "source": [
    "create_thread(wait_connect)\n",
    "def receive_data():\n",
    "    global turn,connection_established\n",
    "    while True:\n",
    "        try:\n",
    "            data=conn.recv(1024).decode()\n",
    "            data=data.split('-')\n",
    "            x,y=int(data[0]),int(data[1])\n",
    "            if data[2]=='Yourturn':\n",
    "                turn=True\n",
    "            if data[3] ==\"False\":\n",
    "                grid.game_over=True\n",
    "            while playing!=\"True\":\n",
    "                pass        #busywait\n",
    "            if grid.get_cell_value(x,y)==0:\n",
    "                grid.set_cell_value(x,y,\"O\")\n",
    "            #print(data)\n",
    "        except:\n",
    "            print('remote connection terminated')\n",
    "            connection_established=False\n",
    "            grid.clear_grid()\n",
    "            grid.game_over=True\n",
    "            create_thread(wait_connect)\n",
    "            break\n",
    "\n",
    "\n",
    "surface=pygame.display.set_mode((600,630))\n",
    "pygame.display.set_caption('Tic-Tac-Toe :Server')"
   ]
  },
  {
   "cell_type": "code",
   "execution_count": 8,
   "metadata": {},
   "outputs": [
    {
     "name": "stdout",
     "output_type": "stream",
     "text": [
      "winner : X\n",
      "Game over\n",
      "restart\n"
     ]
    },
    {
     "ename": "SystemExit",
     "evalue": "",
     "output_type": "error",
     "traceback": [
      "An exception has occurred, use %tb to see the full traceback.\n",
      "\u001b[1;31mSystemExit\u001b[0m\n"
     ]
    },
    {
     "name": "stderr",
     "output_type": "stream",
     "text": [
      "C:\\Users\\KASHISH\\Anaconda3\\lib\\site-packages\\IPython\\core\\interactiveshell.py:3339: UserWarning: To exit: use 'exit', 'quit', or Ctrl-D.\n",
      "  warn(\"To exit: use 'exit', 'quit', or Ctrl-D.\", stacklevel=1)\n"
     ]
    }
   ],
   "source": [
    "def status_bar():\n",
    "    font = pygame.font.Font('assets/04b19.ttf', 22)\n",
    "    if not connection_established:\n",
    "        whoturn =\"Not connected to opponent\"\n",
    "    elif grid.game_over:\n",
    "        if grid.winner !=0:\n",
    "            whoturn= \" winner = \" + player + \" Press space to clear \"\n",
    "        else:\n",
    "            whoturn=\"Game Over! Press space to clear\"\n",
    "        #print(whoturn)\n",
    "    elif turn==True:\n",
    "        whoturn=\"Your Turn\" \n",
    "    else:\n",
    "        whoturn=\"Opponent Turn\"    \n",
    "    text = font.render(f'Player X:  {whoturn}', True, (25,25,112),) \n",
    "    textRect = text.get_rect() \n",
    "    textRect.center = (300, 615)\n",
    "    surface.blit(text, textRect)\n",
    "\n",
    "while running:\n",
    "    for event in pygame.event.get():\n",
    "        if event.type ==pygame.QUIT:\n",
    "            running=False\n",
    "            pygame.display.quit()\n",
    "            pygame.quit()\n",
    "            sys.exit()\n",
    "\n",
    "        if event.type == pygame.MOUSEBUTTONDOWN and connection_established:\n",
    "            if pygame.mouse.get_pressed()[0]:\n",
    "                if turn and not grid.game_over:\n",
    "                    pos = pygame.mouse.get_pos()\n",
    "                    #print(pos[0]//200,pos[1]//200)\n",
    "                    cellx,celly=pos[0]//200,pos[1]//200\n",
    "                    grid.set_mouse_input(cellx,celly,player)\n",
    "                    if grid.game_over:\n",
    "                        playing=\"False\"\n",
    "                    send_data='{}-{}-{}-{}'.format(cellx,celly,'Yourturn',playing).encode()\n",
    "                    conn.send(send_data)\n",
    "                    turn=False\n",
    "                    # if grid.switch_player:\n",
    "                    #     if player ==\"X\":\n",
    "                    #         player =\"O\"\n",
    "                    #     else:\n",
    "                    #         player=\"X\"\n",
    "                        #grid.print_grid()\n",
    "                    if grid.game_over:\n",
    "                        print(\"Game over\")\n",
    "\n",
    "        if event.type == pygame.KEYDOWN:\n",
    "            if event.key==pygame.K_SPACE and grid.game_over:\n",
    "                grid.clear_grid()\n",
    "                grid.game_over=False\n",
    "                playing=\"True\"\n",
    "                print(\"restart\")\n",
    "                if not connection_established:\n",
    "                    grid.game_over=True\n",
    "\n",
    "            elif event.key ==pygame.K_ESCAPE:\n",
    "                running=False\n",
    "\n",
    "    surface.fill((240,248,255))\n",
    "    grid.draw(surface)\n",
    "    status_bar()\n",
    "    pygame.display.flip()"
   ]
  }
 ],
 "metadata": {
  "kernelspec": {
   "display_name": "Python 3",
   "language": "python",
   "name": "python3"
  },
  "language_info": {
   "codemirror_mode": {
    "name": "ipython",
    "version": 3
   },
   "file_extension": ".py",
   "mimetype": "text/x-python",
   "name": "python",
   "nbconvert_exporter": "python",
   "pygments_lexer": "ipython3",
   "version": "3.7.3"
  }
 },
 "nbformat": 4,
 "nbformat_minor": 4
}
